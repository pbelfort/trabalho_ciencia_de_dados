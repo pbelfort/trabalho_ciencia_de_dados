{
 "cells": [
  {
   "cell_type": "markdown",
   "metadata": {},
   "source": [
    "## Importação das bibliotecas"
   ]
  },
  {
   "cell_type": "code",
   "execution_count": 57,
   "metadata": {},
   "outputs": [],
   "source": [
    "import sys\n",
    "import pandas as pd\n",
    "import seaborn as sns\n",
    "import matplotlib.pyplot as plt\n",
    "pd.set_option('display.float_format', lambda x: '%0f' % x)\n",
    "\n",
    "sys.path.append('../')"
   ]
  },
  {
   "cell_type": "code",
   "execution_count": 58,
   "metadata": {},
   "outputs": [],
   "source": [
    "from src.duplicated_data import count_duplicate\n",
    "\n",
    "from src.merging_datasets import merge_datasets\n",
    "\n",
    "from src.consuption_media import consuption_media\n",
    "\n",
    "from src.comparsion_answer import average_comparsion_region\n"
   ]
  },
  {
   "cell_type": "code",
   "execution_count": 59,
   "metadata": {},
   "outputs": [
    {
     "data": {
      "text/html": [
       "<div>\n",
       "<style scoped>\n",
       "    .dataframe tbody tr th:only-of-type {\n",
       "        vertical-align: middle;\n",
       "    }\n",
       "\n",
       "    .dataframe tbody tr th {\n",
       "        vertical-align: top;\n",
       "    }\n",
       "\n",
       "    .dataframe thead th {\n",
       "        text-align: right;\n",
       "    }\n",
       "</style>\n",
       "<table border=\"1\" class=\"dataframe\">\n",
       "  <thead>\n",
       "    <tr style=\"text-align: right;\">\n",
       "      <th></th>\n",
       "      <th>id_estado</th>\n",
       "      <th>sigla</th>\n",
       "      <th>estado</th>\n",
       "      <th>regiao</th>\n",
       "      <th>pais</th>\n",
       "    </tr>\n",
       "  </thead>\n",
       "  <tbody>\n",
       "    <tr>\n",
       "      <th>0</th>\n",
       "      <td>1</td>\n",
       "      <td>AC</td>\n",
       "      <td>Acre</td>\n",
       "      <td>Norte</td>\n",
       "      <td>Brasil</td>\n",
       "    </tr>\n",
       "    <tr>\n",
       "      <th>1</th>\n",
       "      <td>2</td>\n",
       "      <td>AL</td>\n",
       "      <td>Alagoas</td>\n",
       "      <td>Nordeste</td>\n",
       "      <td>Brasil</td>\n",
       "    </tr>\n",
       "    <tr>\n",
       "      <th>2</th>\n",
       "      <td>3</td>\n",
       "      <td>AP</td>\n",
       "      <td>Amapá</td>\n",
       "      <td>Norte</td>\n",
       "      <td>Brasil</td>\n",
       "    </tr>\n",
       "    <tr>\n",
       "      <th>3</th>\n",
       "      <td>4</td>\n",
       "      <td>AM</td>\n",
       "      <td>Amazonas</td>\n",
       "      <td>Norte</td>\n",
       "      <td>Brasil</td>\n",
       "    </tr>\n",
       "    <tr>\n",
       "      <th>4</th>\n",
       "      <td>5</td>\n",
       "      <td>BA</td>\n",
       "      <td>Bahia</td>\n",
       "      <td>Nordeste</td>\n",
       "      <td>Brasil</td>\n",
       "    </tr>\n",
       "  </tbody>\n",
       "</table>\n",
       "</div>"
      ],
      "text/plain": [
       "   id_estado sigla    estado    regiao    pais\n",
       "0          1    AC      Acre     Norte  Brasil\n",
       "1          2    AL   Alagoas  Nordeste  Brasil\n",
       "2          3    AP     Amapá     Norte  Brasil\n",
       "3          4    AM  Amazonas     Norte  Brasil\n",
       "4          5    BA     Bahia  Nordeste  Brasil"
      ]
     },
     "execution_count": 59,
     "metadata": {},
     "output_type": "execute_result"
    }
   ],
   "source": [
    "df_consumo_energia_eletrica = pd.read_csv('../data/raw/consumo_energia_eletrica.csv',sep=',')\n",
    "df_estado_regiao = pd.read_csv('../data/raw/estado_regiao.csv',sep=';', encoding='latin1')\n",
    "\n",
    "\n",
    "#df_consumo_energia_eletrica.head()\n",
    "df_estado_regiao.head()\n"
   ]
  },
  {
   "cell_type": "code",
   "execution_count": 60,
   "metadata": {},
   "outputs": [
    {
     "data": {
      "text/html": [
       "<div>\n",
       "<style scoped>\n",
       "    .dataframe tbody tr th:only-of-type {\n",
       "        vertical-align: middle;\n",
       "    }\n",
       "\n",
       "    .dataframe tbody tr th {\n",
       "        vertical-align: top;\n",
       "    }\n",
       "\n",
       "    .dataframe thead th {\n",
       "        text-align: right;\n",
       "    }\n",
       "</style>\n",
       "<table border=\"1\" class=\"dataframe\">\n",
       "  <thead>\n",
       "    <tr style=\"text-align: right;\">\n",
       "      <th></th>\n",
       "      <th>id_estado</th>\n",
       "      <th>sigla</th>\n",
       "      <th>estado</th>\n",
       "      <th>regiao</th>\n",
       "      <th>pais</th>\n",
       "    </tr>\n",
       "  </thead>\n",
       "  <tbody>\n",
       "    <tr>\n",
       "      <th>0</th>\n",
       "      <td>1</td>\n",
       "      <td>AC</td>\n",
       "      <td>Acre</td>\n",
       "      <td>Norte</td>\n",
       "      <td>Brasil</td>\n",
       "    </tr>\n",
       "    <tr>\n",
       "      <th>1</th>\n",
       "      <td>2</td>\n",
       "      <td>AL</td>\n",
       "      <td>Alagoas</td>\n",
       "      <td>Nordeste</td>\n",
       "      <td>Brasil</td>\n",
       "    </tr>\n",
       "    <tr>\n",
       "      <th>2</th>\n",
       "      <td>3</td>\n",
       "      <td>AP</td>\n",
       "      <td>Amapá</td>\n",
       "      <td>Norte</td>\n",
       "      <td>Brasil</td>\n",
       "    </tr>\n",
       "    <tr>\n",
       "      <th>3</th>\n",
       "      <td>4</td>\n",
       "      <td>AM</td>\n",
       "      <td>Amazonas</td>\n",
       "      <td>Norte</td>\n",
       "      <td>Brasil</td>\n",
       "    </tr>\n",
       "    <tr>\n",
       "      <th>4</th>\n",
       "      <td>5</td>\n",
       "      <td>BA</td>\n",
       "      <td>Bahia</td>\n",
       "      <td>Nordeste</td>\n",
       "      <td>Brasil</td>\n",
       "    </tr>\n",
       "  </tbody>\n",
       "</table>\n",
       "</div>"
      ],
      "text/plain": [
       "   id_estado sigla    estado    regiao    pais\n",
       "0          1    AC      Acre     Norte  Brasil\n",
       "1          2    AL   Alagoas  Nordeste  Brasil\n",
       "2          3    AP     Amapá     Norte  Brasil\n",
       "3          4    AM  Amazonas     Norte  Brasil\n",
       "4          5    BA     Bahia  Nordeste  Brasil"
      ]
     },
     "execution_count": 60,
     "metadata": {},
     "output_type": "execute_result"
    }
   ],
   "source": [
    "df_estado_regiao.head()"
   ]
  },
  {
   "cell_type": "code",
   "execution_count": 61,
   "metadata": {},
   "outputs": [
    {
     "name": "stdout",
     "output_type": "stream",
     "text": [
      "foram encontrados 1017 dados duplicados\n",
      "foram encontrados 0 dados duplicados\n"
     ]
    }
   ],
   "source": [
    "count_duplicate(dataframe=df_consumo_energia_eletrica)\n",
    "\n",
    "df_consumo_energia_eletrica = df_consumo_energia_eletrica.drop_duplicates()\n",
    "\n",
    "count_duplicate(dataframe=df_consumo_energia_eletrica)"
   ]
  },
  {
   "cell_type": "code",
   "execution_count": 62,
   "metadata": {},
   "outputs": [
    {
     "data": {
      "text/html": [
       "<div>\n",
       "<style scoped>\n",
       "    .dataframe tbody tr th:only-of-type {\n",
       "        vertical-align: middle;\n",
       "    }\n",
       "\n",
       "    .dataframe tbody tr th {\n",
       "        vertical-align: top;\n",
       "    }\n",
       "\n",
       "    .dataframe thead th {\n",
       "        text-align: right;\n",
       "    }\n",
       "</style>\n",
       "<table border=\"1\" class=\"dataframe\">\n",
       "  <thead>\n",
       "    <tr style=\"text-align: right;\">\n",
       "      <th></th>\n",
       "      <th>ano</th>\n",
       "      <th>mes</th>\n",
       "      <th>numero_consumidores</th>\n",
       "      <th>consumo</th>\n",
       "    </tr>\n",
       "  </thead>\n",
       "  <tbody>\n",
       "    <tr>\n",
       "      <th>count</th>\n",
       "      <td>38880.000000</td>\n",
       "      <td>38880.000000</td>\n",
       "      <td>25920.000000</td>\n",
       "      <td>38880.000000</td>\n",
       "    </tr>\n",
       "    <tr>\n",
       "      <th>mean</th>\n",
       "      <td>2013.500000</td>\n",
       "      <td>6.500000</td>\n",
       "      <td>682303.377199</td>\n",
       "      <td>611732.006687</td>\n",
       "    </tr>\n",
       "    <tr>\n",
       "      <th>std</th>\n",
       "      <td>5.766355</td>\n",
       "      <td>3.452097</td>\n",
       "      <td>1839311.687366</td>\n",
       "      <td>1208066.849193</td>\n",
       "    </tr>\n",
       "    <tr>\n",
       "      <th>min</th>\n",
       "      <td>2004.000000</td>\n",
       "      <td>1.000000</td>\n",
       "      <td>52.000000</td>\n",
       "      <td>354.000000</td>\n",
       "    </tr>\n",
       "    <tr>\n",
       "      <th>25%</th>\n",
       "      <td>2008.750000</td>\n",
       "      <td>3.750000</td>\n",
       "      <td>18956.500000</td>\n",
       "      <td>85476.000000</td>\n",
       "    </tr>\n",
       "    <tr>\n",
       "      <th>50%</th>\n",
       "      <td>2013.500000</td>\n",
       "      <td>6.500000</td>\n",
       "      <td>108174.500000</td>\n",
       "      <td>221062.000000</td>\n",
       "    </tr>\n",
       "    <tr>\n",
       "      <th>75%</th>\n",
       "      <td>2018.250000</td>\n",
       "      <td>9.250000</td>\n",
       "      <td>442412.000000</td>\n",
       "      <td>596699.000000</td>\n",
       "    </tr>\n",
       "    <tr>\n",
       "      <th>max</th>\n",
       "      <td>2023.000000</td>\n",
       "      <td>12.000000</td>\n",
       "      <td>19201264.000000</td>\n",
       "      <td>12809742.000000</td>\n",
       "    </tr>\n",
       "  </tbody>\n",
       "</table>\n",
       "</div>"
      ],
      "text/plain": [
       "               ano          mes  numero_consumidores         consumo\n",
       "count 38880.000000 38880.000000         25920.000000    38880.000000\n",
       "mean   2013.500000     6.500000        682303.377199   611732.006687\n",
       "std       5.766355     3.452097       1839311.687366  1208066.849193\n",
       "min    2004.000000     1.000000            52.000000      354.000000\n",
       "25%    2008.750000     3.750000         18956.500000    85476.000000\n",
       "50%    2013.500000     6.500000        108174.500000   221062.000000\n",
       "75%    2018.250000     9.250000        442412.000000   596699.000000\n",
       "max    2023.000000    12.000000      19201264.000000 12809742.000000"
      ]
     },
     "execution_count": 62,
     "metadata": {},
     "output_type": "execute_result"
    }
   ],
   "source": [
    "df_consumo_energia_eletrica.describe()\n",
    "#df_estado_regiao.describe()\n"
   ]
  },
  {
   "cell_type": "markdown",
   "metadata": {},
   "source": [
    "### Merging datasets"
   ]
  },
  {
   "cell_type": "code",
   "execution_count": 63,
   "metadata": {},
   "outputs": [
    {
     "data": {
      "text/html": [
       "<div>\n",
       "<style scoped>\n",
       "    .dataframe tbody tr th:only-of-type {\n",
       "        vertical-align: middle;\n",
       "    }\n",
       "\n",
       "    .dataframe tbody tr th {\n",
       "        vertical-align: top;\n",
       "    }\n",
       "\n",
       "    .dataframe thead th {\n",
       "        text-align: right;\n",
       "    }\n",
       "</style>\n",
       "<table border=\"1\" class=\"dataframe\">\n",
       "  <thead>\n",
       "    <tr style=\"text-align: right;\">\n",
       "      <th></th>\n",
       "      <th>ano</th>\n",
       "      <th>mes</th>\n",
       "      <th>sigla_uf</th>\n",
       "      <th>tipo_consumo</th>\n",
       "      <th>numero_consumidores</th>\n",
       "      <th>consumo</th>\n",
       "      <th>id_estado</th>\n",
       "      <th>sigla</th>\n",
       "      <th>estado</th>\n",
       "      <th>regiao</th>\n",
       "      <th>pais</th>\n",
       "    </tr>\n",
       "  </thead>\n",
       "  <tbody>\n",
       "    <tr>\n",
       "      <th>648</th>\n",
       "      <td>2004</td>\n",
       "      <td>1</td>\n",
       "      <td>RN</td>\n",
       "      <td>Outros</td>\n",
       "      <td>40857.000000</td>\n",
       "      <td>69617</td>\n",
       "      <td>20</td>\n",
       "      <td>RN</td>\n",
       "      <td>Rio Grande do Norte</td>\n",
       "      <td>Nordeste</td>\n",
       "      <td>Brasil</td>\n",
       "    </tr>\n",
       "    <tr>\n",
       "      <th>649</th>\n",
       "      <td>2004</td>\n",
       "      <td>1</td>\n",
       "      <td>SP</td>\n",
       "      <td>Outros</td>\n",
       "      <td>311650.000000</td>\n",
       "      <td>937538</td>\n",
       "      <td>25</td>\n",
       "      <td>SP</td>\n",
       "      <td>São Paulo</td>\n",
       "      <td>Sudeste</td>\n",
       "      <td>Brasil</td>\n",
       "    </tr>\n",
       "    <tr>\n",
       "      <th>650</th>\n",
       "      <td>2004</td>\n",
       "      <td>1</td>\n",
       "      <td>MS</td>\n",
       "      <td>Outros</td>\n",
       "      <td>56881.000000</td>\n",
       "      <td>67601</td>\n",
       "      <td>12</td>\n",
       "      <td>MS</td>\n",
       "      <td>Mato Grosso do Sul</td>\n",
       "      <td>Centro-Oeste</td>\n",
       "      <td>Brasil</td>\n",
       "    </tr>\n",
       "    <tr>\n",
       "      <th>651</th>\n",
       "      <td>2004</td>\n",
       "      <td>1</td>\n",
       "      <td>SC</td>\n",
       "      <td>Outros</td>\n",
       "      <td>226165.000000</td>\n",
       "      <td>209380</td>\n",
       "      <td>24</td>\n",
       "      <td>SC</td>\n",
       "      <td>Santa Catarina</td>\n",
       "      <td>Sul</td>\n",
       "      <td>Brasil</td>\n",
       "    </tr>\n",
       "    <tr>\n",
       "      <th>652</th>\n",
       "      <td>2004</td>\n",
       "      <td>1</td>\n",
       "      <td>RJ</td>\n",
       "      <td>Outros</td>\n",
       "      <td>70634.000000</td>\n",
       "      <td>416128</td>\n",
       "      <td>19</td>\n",
       "      <td>RJ</td>\n",
       "      <td>Rio de Janeiro</td>\n",
       "      <td>Sudeste</td>\n",
       "      <td>Brasil</td>\n",
       "    </tr>\n",
       "  </tbody>\n",
       "</table>\n",
       "</div>"
      ],
      "text/plain": [
       "      ano  mes sigla_uf tipo_consumo  numero_consumidores  consumo  id_estado  \\\n",
       "648  2004    1       RN       Outros         40857.000000    69617         20   \n",
       "649  2004    1       SP       Outros        311650.000000   937538         25   \n",
       "650  2004    1       MS       Outros         56881.000000    67601         12   \n",
       "651  2004    1       SC       Outros        226165.000000   209380         24   \n",
       "652  2004    1       RJ       Outros         70634.000000   416128         19   \n",
       "\n",
       "    sigla               estado        regiao    pais  \n",
       "648    RN  Rio Grande do Norte      Nordeste  Brasil  \n",
       "649    SP            São Paulo       Sudeste  Brasil  \n",
       "650    MS   Mato Grosso do Sul  Centro-Oeste  Brasil  \n",
       "651    SC       Santa Catarina           Sul  Brasil  \n",
       "652    RJ       Rio de Janeiro       Sudeste  Brasil  "
      ]
     },
     "execution_count": 63,
     "metadata": {},
     "output_type": "execute_result"
    }
   ],
   "source": [
    "merged_datasets = merge_datasets(df_consumo_energia_eletrica,\n",
    "                                 df_estado_regiao)\n",
    "\n",
    "merged_datasets.head(5)\n"
   ]
  },
  {
   "cell_type": "code",
   "execution_count": 64,
   "metadata": {},
   "outputs": [],
   "source": [
    "processed_dataset = pd.read_csv('../data/processed/dados_tratados.csv',sep=';', encoding='latin1')\n"
   ]
  },
  {
   "cell_type": "markdown",
   "metadata": {},
   "source": [
    "# Perguntas"
   ]
  },
  {
   "cell_type": "markdown",
   "metadata": {},
   "source": [
    "##### 1 Após o tratamento dos dados responda as seguintes questões: Qual é a média de consumo elétrico do estado de Minas Gerais para o tipo de consumo residencial entre todos os anos?"
   ]
  },
  {
   "cell_type": "code",
   "execution_count": 65,
   "metadata": {},
   "outputs": [
    {
     "name": "stdout",
     "output_type": "stream",
     "text": [
      "Media de consumo: 824152.16\n"
     ]
    }
   ],
   "source": [
    "consuption_media(processed_dataset)"
   ]
  },
  {
   "cell_type": "markdown",
   "metadata": {},
   "source": [
    "##### 2 Qual estado apresentou o maior consumo de energia elétrica no setor Industrial no ano de 2019?"
   ]
  },
  {
   "cell_type": "code",
   "execution_count": 66,
   "metadata": {},
   "outputs": [
    {
     "name": "stderr",
     "output_type": "stream",
     "text": [
      "C:\\Users\\pedro\\AppData\\Local\\Temp\\ipykernel_20708\\2813858483.py:3: FutureWarning: The provided callable <built-in function sum> is currently using SeriesGroupBy.sum. In a future version of pandas, the provided callable will be used directly. To keep current behavior pass the string \"sum\" instead.\n",
      "  data.groupby('sigla_uf').agg(\n"
     ]
    },
    {
     "data": {
      "text/html": [
       "<div>\n",
       "<style scoped>\n",
       "    .dataframe tbody tr th:only-of-type {\n",
       "        vertical-align: middle;\n",
       "    }\n",
       "\n",
       "    .dataframe tbody tr th {\n",
       "        vertical-align: top;\n",
       "    }\n",
       "\n",
       "    .dataframe thead th {\n",
       "        text-align: right;\n",
       "    }\n",
       "</style>\n",
       "<table border=\"1\" class=\"dataframe\">\n",
       "  <thead>\n",
       "    <tr style=\"text-align: right;\">\n",
       "      <th></th>\n",
       "      <th>consupution_sum</th>\n",
       "    </tr>\n",
       "    <tr>\n",
       "      <th>sigla_uf</th>\n",
       "      <th></th>\n",
       "    </tr>\n",
       "  </thead>\n",
       "  <tbody>\n",
       "    <tr>\n",
       "      <th>SP</th>\n",
       "      <td>47635621</td>\n",
       "    </tr>\n",
       "  </tbody>\n",
       "</table>\n",
       "</div>"
      ],
      "text/plain": [
       "          consupution_sum\n",
       "sigla_uf                 \n",
       "SP               47635621"
      ]
     },
     "execution_count": 66,
     "metadata": {},
     "output_type": "execute_result"
    }
   ],
   "source": [
    "filter = (processed_dataset['ano'] == 2019) & (processed_dataset['tipo_consumo'] == 'Industrial')\n",
    "data = processed_dataset[filter]\n",
    "data.groupby('sigla_uf').agg(\n",
    "        consupution_sum = ('consumo',sum)\n",
    "        ).sort_values(\n",
    "            by = 'consupution_sum',\n",
    "            ascending=False\n",
    "            ).head(1)"
   ]
  },
  {
   "cell_type": "code",
   "execution_count": 67,
   "metadata": {},
   "outputs": [
    {
     "data": {
      "text/plain": [
       "<Axes: xlabel='sigla_uf', ylabel='consumo'>"
      ]
     },
     "execution_count": 67,
     "metadata": {},
     "output_type": "execute_result"
    },
    {
     "data": {
      "image/png": "[encoded data removed]",
      "text/plain": [
       "<Figure size 2300x800 with 1 Axes>"
      ]
     },
     "metadata": {},
     "output_type": "display_data"
    }
   ],
   "source": [
    "plt.figure(figsize=(23,8))\n",
    "sns.barplot(\n",
    "            data=data,\n",
    "            x='sigla_uf',\n",
    "            y='consumo',\n",
    "            hue='sigla_uf'\n",
    "            )"
   ]
  },
  {
   "cell_type": "markdown",
   "metadata": {},
   "source": [
    "##### 3 Crie um gráfico de barras exibindo as médias de consumo residencial e destaque os cinco estados com as maiores médias. Certifique-se de ordenar os resultados de forma decrescente, do maior para o menor."
   ]
  },
  {
   "cell_type": "code",
   "execution_count": 68,
   "metadata": {},
   "outputs": [
    {
     "name": "stdout",
     "output_type": "stream",
     "text": [
      "           average_cons\n",
      "sigla_uf               \n",
      "SP       2631808.197917\n",
      "MG       1106188.364583\n",
      "RJ        768140.057292\n",
      "PR        588555.683333\n",
      "RS        575600.895833\n"
     ]
    },
    {
     "data": {
      "image/png": "[encoded data removed]",
      "text/plain": [
       "<Figure size 2300x800 with 1 Axes>"
      ]
     },
     "metadata": {},
     "output_type": "display_data"
    }
   ],
   "source": [
    "filter = (processed_dataset['tipo_consumo'] == 'Residencial')\n",
    "\n",
    "data = processed_dataset[filter]\n",
    "\n",
    "max_sum_consumo = processed_dataset.groupby('sigla_uf').agg(\n",
    "    average_cons=('consumo', 'mean')\n",
    ")\n",
    "\n",
    "headFive = max_sum_consumo.sort_values(by='average_cons', ascending=False).head(5)\n",
    "\n",
    "plt.figure(figsize=(23,8))\n",
    "sns.barplot(\n",
    "            data=headFive,\n",
    "            x='sigla_uf',\n",
    "            y='average_cons',\n",
    "            hue='sigla_uf'\n",
    "            )\n",
    "print(headFive)"
   ]
  },
  {
   "cell_type": "markdown",
   "metadata": {},
   "source": [
    "##### 4 Crie um gráfico de barras exibindo a soma do consumo de energia agrupados por tipo de consumo existente na base dados para o estado de São Paulo. Certifique-se de ordenar os resultados de forma decrescente, do maior para o menor."
   ]
  },
  {
   "cell_type": "code",
   "execution_count": 69,
   "metadata": {},
   "outputs": [
    {
     "name": "stdout",
     "output_type": "stream",
     "text": [
      "              consupution_sum\n",
      "tipo_consumo                 \n",
      "Industrial         1015456099\n",
      "Residencial         726487536\n",
      "Comercial           503286640\n",
      "Outros              281305595\n"
     ]
    },
    {
     "name": "stderr",
     "output_type": "stream",
     "text": [
      "C:\\Users\\pedro\\AppData\\Local\\Temp\\ipykernel_20708\\4179354793.py:5: FutureWarning: The provided callable <built-in function sum> is currently using SeriesGroupBy.sum. In a future version of pandas, the provided callable will be used directly. To keep current behavior pass the string \"sum\" instead.\n",
      "  grouped_data =  data.groupby('tipo_consumo').agg(\n"
     ]
    },
    {
     "data": {
      "image/png": "[encoded data removed]",
      "text/plain": [
       "<Figure size 2300x800 with 1 Axes>"
      ]
     },
     "metadata": {},
     "output_type": "display_data"
    }
   ],
   "source": [
    "filter = (processed_dataset['sigla_uf'] == 'SP')\n",
    "\n",
    "data = processed_dataset[filter]\n",
    "\n",
    "grouped_data =  data.groupby('tipo_consumo').agg(\n",
    "    consupution_sum = ('consumo',sum)\n",
    "    ).sort_values(\n",
    "        by = 'consupution_sum',\n",
    "        ascending=False\n",
    "        )\n",
    "\n",
    "plt.figure(figsize=(23,8))\n",
    "sns.barplot(\n",
    "            data=grouped_data,\n",
    "            x='tipo_consumo',\n",
    "            y='consupution_sum',\n",
    "            hue='tipo_consumo'\n",
    "            )\n",
    "print(grouped_data)"
   ]
  },
  {
   "cell_type": "markdown",
   "metadata": {},
   "source": [
    "##### 5 Qual ano que obteve o maior consumo?\n"
   ]
  },
  {
   "cell_type": "code",
   "execution_count": 70,
   "metadata": {},
   "outputs": [
    {
     "name": "stderr",
     "output_type": "stream",
     "text": [
      "C:\\Users\\pedro\\AppData\\Local\\Temp\\ipykernel_20708\\2313352680.py:1: FutureWarning: The provided callable <built-in function sum> is currently using SeriesGroupBy.sum. In a future version of pandas, the provided callable will be used directly. To keep current behavior pass the string \"sum\" instead.\n",
      "  processed_dataset.groupby('ano').agg(\n"
     ]
    },
    {
     "data": {
      "text/html": [
       "<div>\n",
       "<style scoped>\n",
       "    .dataframe tbody tr th:only-of-type {\n",
       "        vertical-align: middle;\n",
       "    }\n",
       "\n",
       "    .dataframe tbody tr th {\n",
       "        vertical-align: top;\n",
       "    }\n",
       "\n",
       "    .dataframe thead th {\n",
       "        text-align: right;\n",
       "    }\n",
       "</style>\n",
       "<table border=\"1\" class=\"dataframe\">\n",
       "  <thead>\n",
       "    <tr style=\"text-align: right;\">\n",
       "      <th></th>\n",
       "      <th>consupution_sum</th>\n",
       "    </tr>\n",
       "    <tr>\n",
       "      <th>ano</th>\n",
       "      <th></th>\n",
       "    </tr>\n",
       "  </thead>\n",
       "  <tbody>\n",
       "    <tr>\n",
       "      <th>2023</th>\n",
       "      <td>531012116</td>\n",
       "    </tr>\n",
       "  </tbody>\n",
       "</table>\n",
       "</div>"
      ],
      "text/plain": [
       "      consupution_sum\n",
       "ano                  \n",
       "2023        531012116"
      ]
     },
     "execution_count": 70,
     "metadata": {},
     "output_type": "execute_result"
    }
   ],
   "source": [
    "processed_dataset.groupby('ano').agg(\n",
    "    consupution_sum = ('consumo',sum)\n",
    "    ).sort_values(\n",
    "        by = 'consupution_sum',\n",
    "        ascending=False\n",
    "        ).head(1)"
   ]
  },
  {
   "cell_type": "markdown",
   "metadata": {},
   "source": [
    "##### 6 Qual foi o estado que obteve menor consumo no ano de 2020?"
   ]
  },
  {
   "cell_type": "code",
   "execution_count": 71,
   "metadata": {},
   "outputs": [
    {
     "name": "stderr",
     "output_type": "stream",
     "text": [
      "C:\\Users\\pedro\\AppData\\Local\\Temp\\ipykernel_20708\\4167748664.py:5: FutureWarning: The provided callable <built-in function sum> is currently using SeriesGroupBy.sum. In a future version of pandas, the provided callable will be used directly. To keep current behavior pass the string \"sum\" instead.\n",
      "  data.groupby('sigla_uf').agg(\n"
     ]
    },
    {
     "data": {
      "text/html": [
       "<div>\n",
       "<style scoped>\n",
       "    .dataframe tbody tr th:only-of-type {\n",
       "        vertical-align: middle;\n",
       "    }\n",
       "\n",
       "    .dataframe tbody tr th {\n",
       "        vertical-align: top;\n",
       "    }\n",
       "\n",
       "    .dataframe thead th {\n",
       "        text-align: right;\n",
       "    }\n",
       "</style>\n",
       "<table border=\"1\" class=\"dataframe\">\n",
       "  <thead>\n",
       "    <tr style=\"text-align: right;\">\n",
       "      <th></th>\n",
       "      <th>consupution_sum</th>\n",
       "    </tr>\n",
       "    <tr>\n",
       "      <th>sigla_uf</th>\n",
       "      <th></th>\n",
       "    </tr>\n",
       "  </thead>\n",
       "  <tbody>\n",
       "    <tr>\n",
       "      <th>RR</th>\n",
       "      <td>975286</td>\n",
       "    </tr>\n",
       "  </tbody>\n",
       "</table>\n",
       "</div>"
      ],
      "text/plain": [
       "          consupution_sum\n",
       "sigla_uf                 \n",
       "RR                 975286"
      ]
     },
     "execution_count": 71,
     "metadata": {},
     "output_type": "execute_result"
    }
   ],
   "source": [
    "filter = (processed_dataset['ano'] == 2020)\n",
    "\n",
    "data = processed_dataset[filter]\n",
    "\n",
    "data.groupby('sigla_uf').agg(\n",
    "    consupution_sum = ('consumo',sum)\n",
    "    ).sort_values(\n",
    "        by = 'consupution_sum',\n",
    "        ascending=True\n",
    "        ).head(1)"
   ]
  },
  {
   "cell_type": "markdown",
   "metadata": {},
   "source": [
    "##### 7 Calcule a amplitude dos dados de consumo de energia elétrica para o ano de 2019. "
   ]
  },
  {
   "cell_type": "code",
   "execution_count": 72,
   "metadata": {},
   "outputs": [
    {
     "data": {
      "text/plain": [
       "4136720"
      ]
     },
     "execution_count": 72,
     "metadata": {},
     "output_type": "execute_result"
    }
   ],
   "source": [
    "filter = (processed_dataset['ano'] == 2019)\n",
    "\n",
    "consumption_data = processed_dataset[filter]['consumo']\n",
    "\n",
    "max_consuption_value = max(consumption_data)\n",
    "min_consuption_value = min(consumption_data)\n",
    "\n",
    "amplitude = max_consuption_value - min_consuption_value\n",
    "\n",
    "amplitude"
   ]
  },
  {
   "cell_type": "markdown",
   "metadata": {},
   "source": [
    "##### 8 Qual é a média do consumo residencial de todos os consumidores da região nordeste no ano de 2019? Realize o arredondamento semcasas decimais. Round()"
   ]
  },
  {
   "cell_type": "code",
   "execution_count": 73,
   "metadata": {},
   "outputs": [
    {
     "name": "stdout",
     "output_type": "stream",
     "text": [
      "Media de consumo: 269220.00\n"
     ]
    }
   ],
   "source": [
    "filter = (processed_dataset['ano'] == 2019) & (processed_dataset['regiao'] == 'Nordeste') & (processed_dataset['tipo_consumo'] == 'Residencial')\n",
    "\n",
    "data = processed_dataset[filter]\n",
    "\n",
    "north_east_consupution_media = data['consumo'].mean().round()\n",
    "\n",
    "\n",
    "print(f\"Media de consumo: {north_east_consupution_media:.2f}\")\n"
   ]
  },
  {
   "cell_type": "markdown",
   "metadata": {},
   "source": [
    "##### 9 Crie um gráfico de linhas onde o eixo X representa a os anos e o eixo Y representa o consumo de energia agrupados por tipo de consumo. Em seguida escolha a melhor representação."
   ]
  },
  {
   "cell_type": "code",
   "execution_count": 74,
   "metadata": {},
   "outputs": [
    {
     "data": {
      "text/plain": [
       "<Axes: xlabel='ano', ylabel='consumo'>"
      ]
     },
     "execution_count": 74,
     "metadata": {},
     "output_type": "execute_result"
    },
    {
     "data": {
      "image/png": "[encoded data removed]",
      "text/plain": [
       "<Figure size 2300x800 with 1 Axes>"
      ]
     },
     "metadata": {},
     "output_type": "display_data"
    }
   ],
   "source": [
    "plt.figure(figsize=(23,8))\n",
    "sns.lineplot(data= processed_dataset,\n",
    "                x='ano',\n",
    "                y='consumo',\n",
    "                hue='tipo_consumo',\n",
    "                marker='o')"
   ]
  },
  {
   "cell_type": "markdown",
   "metadata": {},
   "source": [
    "##### 10 Calcule a média de consumo agrupados por ano e região e em seguida responda: Em qual ano o consumo de energia elétrica da região Nordeste foi mais alto que o Centro Oeste? Escolha uma das alternativas abaixo."
   ]
  },
  {
   "cell_type": "code",
   "execution_count": 75,
   "metadata": {},
   "outputs": [
    {
     "name": "stdout",
     "output_type": "stream",
     "text": [
      "      media_nordeste  media_centro_oeste  year_grather_than\n",
      "ano                                                        \n",
      "2004   124504.481481       100102.505208               True\n",
      "2005   131722.402778       105432.052083               True\n",
      "2006   136713.442130       107769.401042               True\n",
      "2007   144368.166667       114746.552083               True\n",
      "2008   150701.784722       123189.578125               True\n",
      "2009   151027.231481       129668.609375               True\n",
      "2010   164807.743056       137033.750000               True\n",
      "2011   166467.141204       146898.552083               True\n",
      "2012   175024.078704       159988.166667               True\n",
      "2013   184476.594907       170601.296875               True\n",
      "2014   186914.819444       179067.338542               True\n",
      "2015   183365.604167       182962.776042               True\n",
      "2016   184031.032407       181580.541667               True\n",
      "2017   184563.046296       186048.359375              False\n",
      "2018   186339.196759       191929.015625              False\n",
      "2019   192450.027778       200096.645833              False\n",
      "2020   187892.509259       202834.520833              False\n",
      "2021   201197.453704       207512.885417              False\n",
      "2022   204147.888889       211232.682292              False\n",
      "2023   219532.601852       222171.786458              False\n"
     ]
    }
   ],
   "source": [
    "average_comparsion_region(processed_dataset)"
   ]
  },
  {
   "cell_type": "markdown",
   "metadata": {},
   "source": [
    "##### 11 Qual foi o maior consumo de energia na época de Copa do Mundo por estado?"
   ]
  },
  {
   "cell_type": "code",
   "execution_count": 76,
   "metadata": {},
   "outputs": [
    {
     "name": "stderr",
     "output_type": "stream",
     "text": [
      "C:\\Users\\pedro\\AppData\\Local\\Temp\\ipykernel_20708\\3709386265.py:8: FutureWarning: The provided callable <built-in function sum> is currently using SeriesGroupBy.sum. In a future version of pandas, the provided callable will be used directly. To keep current behavior pass the string \"sum\" instead.\n",
      "  world_cup_data.groupby('sigla_uf').agg(\n"
     ]
    },
    {
     "data": {
      "text/html": [
       "<div>\n",
       "<style scoped>\n",
       "    .dataframe tbody tr th:only-of-type {\n",
       "        vertical-align: middle;\n",
       "    }\n",
       "\n",
       "    .dataframe tbody tr th {\n",
       "        vertical-align: top;\n",
       "    }\n",
       "\n",
       "    .dataframe thead th {\n",
       "        text-align: right;\n",
       "    }\n",
       "</style>\n",
       "<table border=\"1\" class=\"dataframe\">\n",
       "  <thead>\n",
       "    <tr style=\"text-align: right;\">\n",
       "      <th></th>\n",
       "      <th>consupution_sum</th>\n",
       "    </tr>\n",
       "    <tr>\n",
       "      <th>sigla_uf</th>\n",
       "      <th></th>\n",
       "    </tr>\n",
       "  </thead>\n",
       "  <tbody>\n",
       "    <tr>\n",
       "      <th>SP</th>\n",
       "      <td>104592464</td>\n",
       "    </tr>\n",
       "    <tr>\n",
       "      <th>MG</th>\n",
       "      <td>44545278</td>\n",
       "    </tr>\n",
       "    <tr>\n",
       "      <th>RJ</th>\n",
       "      <td>29243518</td>\n",
       "    </tr>\n",
       "    <tr>\n",
       "      <th>PR</th>\n",
       "      <td>23414349</td>\n",
       "    </tr>\n",
       "    <tr>\n",
       "      <th>RS</th>\n",
       "      <td>22553463</td>\n",
       "    </tr>\n",
       "    <tr>\n",
       "      <th>BA</th>\n",
       "      <td>19093087</td>\n",
       "    </tr>\n",
       "    <tr>\n",
       "      <th>SC</th>\n",
       "      <td>17932768</td>\n",
       "    </tr>\n",
       "    <tr>\n",
       "      <th>PA</th>\n",
       "      <td>14831162</td>\n",
       "    </tr>\n",
       "    <tr>\n",
       "      <th>GO</th>\n",
       "      <td>11395112</td>\n",
       "    </tr>\n",
       "    <tr>\n",
       "      <th>PE</th>\n",
       "      <td>10053115</td>\n",
       "    </tr>\n",
       "    <tr>\n",
       "      <th>CE</th>\n",
       "      <td>8601737</td>\n",
       "    </tr>\n",
       "    <tr>\n",
       "      <th>MA</th>\n",
       "      <td>8119017</td>\n",
       "    </tr>\n",
       "    <tr>\n",
       "      <th>ES</th>\n",
       "      <td>7920647</td>\n",
       "    </tr>\n",
       "    <tr>\n",
       "      <th>MT</th>\n",
       "      <td>6099838</td>\n",
       "    </tr>\n",
       "    <tr>\n",
       "      <th>DF</th>\n",
       "      <td>4833946</td>\n",
       "    </tr>\n",
       "    <tr>\n",
       "      <th>AM</th>\n",
       "      <td>4599643</td>\n",
       "    </tr>\n",
       "    <tr>\n",
       "      <th>RN</th>\n",
       "      <td>4139474</td>\n",
       "    </tr>\n",
       "    <tr>\n",
       "      <th>PB</th>\n",
       "      <td>3896872</td>\n",
       "    </tr>\n",
       "    <tr>\n",
       "      <th>MS</th>\n",
       "      <td>3868850</td>\n",
       "    </tr>\n",
       "    <tr>\n",
       "      <th>AL</th>\n",
       "      <td>3644450</td>\n",
       "    </tr>\n",
       "    <tr>\n",
       "      <th>SE</th>\n",
       "      <td>2824398</td>\n",
       "    </tr>\n",
       "    <tr>\n",
       "      <th>PI</th>\n",
       "      <td>2419831</td>\n",
       "    </tr>\n",
       "    <tr>\n",
       "      <th>RO</th>\n",
       "      <td>2238803</td>\n",
       "    </tr>\n",
       "    <tr>\n",
       "      <th>TO</th>\n",
       "      <td>1577424</td>\n",
       "    </tr>\n",
       "    <tr>\n",
       "      <th>AP</th>\n",
       "      <td>790280</td>\n",
       "    </tr>\n",
       "    <tr>\n",
       "      <th>AC</th>\n",
       "      <td>689299</td>\n",
       "    </tr>\n",
       "    <tr>\n",
       "      <th>RR</th>\n",
       "      <td>603757</td>\n",
       "    </tr>\n",
       "  </tbody>\n",
       "</table>\n",
       "</div>"
      ],
      "text/plain": [
       "          consupution_sum\n",
       "sigla_uf                 \n",
       "SP              104592464\n",
       "MG               44545278\n",
       "RJ               29243518\n",
       "PR               23414349\n",
       "RS               22553463\n",
       "BA               19093087\n",
       "SC               17932768\n",
       "PA               14831162\n",
       "GO               11395112\n",
       "PE               10053115\n",
       "CE                8601737\n",
       "MA                8119017\n",
       "ES                7920647\n",
       "MT                6099838\n",
       "DF                4833946\n",
       "AM                4599643\n",
       "RN                4139474\n",
       "PB                3896872\n",
       "MS                3868850\n",
       "AL                3644450\n",
       "SE                2824398\n",
       "PI                2419831\n",
       "RO                2238803\n",
       "TO                1577424\n",
       "AP                 790280\n",
       "AC                 689299\n",
       "RR                 603757"
      ]
     },
     "execution_count": 76,
     "metadata": {},
     "output_type": "execute_result"
    }
   ],
   "source": [
    "world_cup_data = processed_dataset.query(\"  (ano == 2006 and mes >= 6 and mes <= 7) \\\n",
    "                                       or (ano == 2010 and mes >= 6 and mes <= 7) \\\n",
    "                                       or (ano == 2014 and mes >= 6 and mes <= 7) \\\n",
    "                                       or (ano == 2018 and mes >= 6 and mes <= 7) \\\n",
    "                                       or (ano == 2022 and mes >= 11 and mes <= 12)\" \n",
    "                                       )\n",
    "\n",
    "world_cup_data.groupby('sigla_uf').agg(\n",
    "    consupution_sum = ('consumo',sum)\n",
    "    ).sort_values(\n",
    "        by = 'consupution_sum',\n",
    "        ascending=False\n",
    "        )\n"
   ]
  },
  {
   "cell_type": "markdown",
   "metadata": {},
   "source": [
    "##### 12 Qual foi a média de consumo de energia nos anos de Covid-19 por estado?"
   ]
  },
  {
   "cell_type": "code",
   "execution_count": 77,
   "metadata": {},
   "outputs": [
    {
     "data": {
      "text/html": [
       "<div>\n",
       "<style scoped>\n",
       "    .dataframe tbody tr th:only-of-type {\n",
       "        vertical-align: middle;\n",
       "    }\n",
       "\n",
       "    .dataframe tbody tr th {\n",
       "        vertical-align: top;\n",
       "    }\n",
       "\n",
       "    .dataframe thead th {\n",
       "        text-align: right;\n",
       "    }\n",
       "</style>\n",
       "<table border=\"1\" class=\"dataframe\">\n",
       "  <thead>\n",
       "    <tr style=\"text-align: right;\">\n",
       "      <th></th>\n",
       "      <th>consupution_sum</th>\n",
       "    </tr>\n",
       "    <tr>\n",
       "      <th>sigla_uf</th>\n",
       "      <th></th>\n",
       "    </tr>\n",
       "  </thead>\n",
       "  <tbody>\n",
       "    <tr>\n",
       "      <th>SP</th>\n",
       "      <td>2799902.472222</td>\n",
       "    </tr>\n",
       "    <tr>\n",
       "      <th>MG</th>\n",
       "      <td>1219084.259259</td>\n",
       "    </tr>\n",
       "    <tr>\n",
       "      <th>RJ</th>\n",
       "      <td>801624.481481</td>\n",
       "    </tr>\n",
       "    <tr>\n",
       "      <th>PR</th>\n",
       "      <td>712937.203704</td>\n",
       "    </tr>\n",
       "    <tr>\n",
       "      <th>RS</th>\n",
       "      <td>632420.472222</td>\n",
       "    </tr>\n",
       "    <tr>\n",
       "      <th>SC</th>\n",
       "      <td>573254.685185</td>\n",
       "    </tr>\n",
       "    <tr>\n",
       "      <th>BA</th>\n",
       "      <td>532351.638889</td>\n",
       "    </tr>\n",
       "    <tr>\n",
       "      <th>PA</th>\n",
       "      <td>423534.648148</td>\n",
       "    </tr>\n",
       "    <tr>\n",
       "      <th>GO</th>\n",
       "      <td>354764.203704</td>\n",
       "    </tr>\n",
       "    <tr>\n",
       "      <th>PE</th>\n",
       "      <td>308773.787037</td>\n",
       "    </tr>\n",
       "    <tr>\n",
       "      <th>CE</th>\n",
       "      <td>259876.324074</td>\n",
       "    </tr>\n",
       "    <tr>\n",
       "      <th>ES</th>\n",
       "      <td>216696.314815</td>\n",
       "    </tr>\n",
       "    <tr>\n",
       "      <th>MT</th>\n",
       "      <td>203677.157407</td>\n",
       "    </tr>\n",
       "    <tr>\n",
       "      <th>MA</th>\n",
       "      <td>165269.712963</td>\n",
       "    </tr>\n",
       "    <tr>\n",
       "      <th>MS</th>\n",
       "      <td>133096.370370</td>\n",
       "    </tr>\n",
       "    <tr>\n",
       "      <th>DF</th>\n",
       "      <td>131125.944444</td>\n",
       "    </tr>\n",
       "    <tr>\n",
       "      <th>AM</th>\n",
       "      <td>129278.509259</td>\n",
       "    </tr>\n",
       "    <tr>\n",
       "      <th>RN</th>\n",
       "      <td>121922.648148</td>\n",
       "    </tr>\n",
       "    <tr>\n",
       "      <th>PB</th>\n",
       "      <td>119805.388889</td>\n",
       "    </tr>\n",
       "    <tr>\n",
       "      <th>AL</th>\n",
       "      <td>92260.722222</td>\n",
       "    </tr>\n",
       "    <tr>\n",
       "      <th>PI</th>\n",
       "      <td>79373.814815</td>\n",
       "    </tr>\n",
       "    <tr>\n",
       "      <th>SE</th>\n",
       "      <td>79000.675926</td>\n",
       "    </tr>\n",
       "    <tr>\n",
       "      <th>RO</th>\n",
       "      <td>70367.953704</td>\n",
       "    </tr>\n",
       "    <tr>\n",
       "      <th>TO</th>\n",
       "      <td>51706.740741</td>\n",
       "    </tr>\n",
       "    <tr>\n",
       "      <th>AC</th>\n",
       "      <td>22908.250000</td>\n",
       "    </tr>\n",
       "    <tr>\n",
       "      <th>AP</th>\n",
       "      <td>22121.879630</td>\n",
       "    </tr>\n",
       "    <tr>\n",
       "      <th>RR</th>\n",
       "      <td>21298.731481</td>\n",
       "    </tr>\n",
       "  </tbody>\n",
       "</table>\n",
       "</div>"
      ],
      "text/plain": [
       "          consupution_sum\n",
       "sigla_uf                 \n",
       "SP         2799902.472222\n",
       "MG         1219084.259259\n",
       "RJ          801624.481481\n",
       "PR          712937.203704\n",
       "RS          632420.472222\n",
       "SC          573254.685185\n",
       "BA          532351.638889\n",
       "PA          423534.648148\n",
       "GO          354764.203704\n",
       "PE          308773.787037\n",
       "CE          259876.324074\n",
       "ES          216696.314815\n",
       "MT          203677.157407\n",
       "MA          165269.712963\n",
       "MS          133096.370370\n",
       "DF          131125.944444\n",
       "AM          129278.509259\n",
       "RN          121922.648148\n",
       "PB          119805.388889\n",
       "AL           92260.722222\n",
       "PI           79373.814815\n",
       "SE           79000.675926\n",
       "RO           70367.953704\n",
       "TO           51706.740741\n",
       "AC           22908.250000\n",
       "AP           22121.879630\n",
       "RR           21298.731481"
      ]
     },
     "execution_count": 77,
     "metadata": {},
     "output_type": "execute_result"
    }
   ],
   "source": [
    "covid_filter = processed_dataset.query(\"ano == 2020 and mes >= 2 or ano == 2021 or ano == 2022 and mes <= 4\")\n",
    "\n",
    "covid_filter.groupby('sigla_uf').agg(\n",
    "    consupution_sum = ('consumo','mean')\n",
    "    ).sort_values(\n",
    "        by = 'consupution_sum',\n",
    "        ascending=False\n",
    "        )\n"
   ]
  },
  {
   "cell_type": "markdown",
   "metadata": {},
   "source": [
    "##### 13 Qual estado teve maior consumo de energia nos anos de Covid-19?"
   ]
  },
  {
   "cell_type": "code",
   "execution_count": 78,
   "metadata": {},
   "outputs": [
    {
     "name": "stderr",
     "output_type": "stream",
     "text": [
      "C:\\Users\\pedro\\AppData\\Local\\Temp\\ipykernel_20708\\1599861812.py:3: FutureWarning: The provided callable <built-in function sum> is currently using SeriesGroupBy.sum. In a future version of pandas, the provided callable will be used directly. To keep current behavior pass the string \"sum\" instead.\n",
      "  covid_filter.groupby('sigla_uf').agg(\n"
     ]
    },
    {
     "data": {
      "text/html": [
       "<div>\n",
       "<style scoped>\n",
       "    .dataframe tbody tr th:only-of-type {\n",
       "        vertical-align: middle;\n",
       "    }\n",
       "\n",
       "    .dataframe tbody tr th {\n",
       "        vertical-align: top;\n",
       "    }\n",
       "\n",
       "    .dataframe thead th {\n",
       "        text-align: right;\n",
       "    }\n",
       "</style>\n",
       "<table border=\"1\" class=\"dataframe\">\n",
       "  <thead>\n",
       "    <tr style=\"text-align: right;\">\n",
       "      <th></th>\n",
       "      <th>consupution_sum</th>\n",
       "    </tr>\n",
       "    <tr>\n",
       "      <th>sigla_uf</th>\n",
       "      <th></th>\n",
       "    </tr>\n",
       "  </thead>\n",
       "  <tbody>\n",
       "    <tr>\n",
       "      <th>SP</th>\n",
       "      <td>302389467</td>\n",
       "    </tr>\n",
       "  </tbody>\n",
       "</table>\n",
       "</div>"
      ],
      "text/plain": [
       "          consupution_sum\n",
       "sigla_uf                 \n",
       "SP              302389467"
      ]
     },
     "execution_count": 78,
     "metadata": {},
     "output_type": "execute_result"
    }
   ],
   "source": [
    "covid_filter = processed_dataset.query(\"ano == 2020 and mes >= 2 or ano == 2021 or ano == 2022 and mes <= 4\")\n",
    "\n",
    "covid_filter.groupby('sigla_uf').agg(\n",
    "    consupution_sum = ('consumo',sum)\n",
    "    ).sort_values(\n",
    "        by = 'consupution_sum',\n",
    "        ascending=False\n",
    "        ).head(1)\n"
   ]
  },
  {
   "cell_type": "markdown",
   "metadata": {},
   "source": [
    "##### 14 Qual foi o estado  que consumiu mais energia na época de Olimpiadas e Paralimpíadas?"
   ]
  },
  {
   "cell_type": "code",
   "execution_count": 79,
   "metadata": {},
   "outputs": [
    {
     "name": "stderr",
     "output_type": "stream",
     "text": [
      "C:\\Users\\pedro\\AppData\\Local\\Temp\\ipykernel_20708\\1578222446.py:3: FutureWarning: The provided callable <built-in function sum> is currently using SeriesGroupBy.sum. In a future version of pandas, the provided callable will be used directly. To keep current behavior pass the string \"sum\" instead.\n",
      "  olimpic_data.groupby('sigla_uf').agg(\n"
     ]
    },
    {
     "data": {
      "text/html": [
       "<div>\n",
       "<style scoped>\n",
       "    .dataframe tbody tr th:only-of-type {\n",
       "        vertical-align: middle;\n",
       "    }\n",
       "\n",
       "    .dataframe tbody tr th {\n",
       "        vertical-align: top;\n",
       "    }\n",
       "\n",
       "    .dataframe thead th {\n",
       "        text-align: right;\n",
       "    }\n",
       "</style>\n",
       "<table border=\"1\" class=\"dataframe\">\n",
       "  <thead>\n",
       "    <tr style=\"text-align: right;\">\n",
       "      <th></th>\n",
       "      <th>consupution_sum</th>\n",
       "    </tr>\n",
       "    <tr>\n",
       "      <th>sigla_uf</th>\n",
       "      <th></th>\n",
       "    </tr>\n",
       "  </thead>\n",
       "  <tbody>\n",
       "    <tr>\n",
       "      <th>SP</th>\n",
       "      <td>20882634</td>\n",
       "    </tr>\n",
       "    <tr>\n",
       "      <th>MG</th>\n",
       "      <td>9265662</td>\n",
       "    </tr>\n",
       "    <tr>\n",
       "      <th>RJ</th>\n",
       "      <td>6258156</td>\n",
       "    </tr>\n",
       "    <tr>\n",
       "      <th>PR</th>\n",
       "      <td>4768034</td>\n",
       "    </tr>\n",
       "    <tr>\n",
       "      <th>RS</th>\n",
       "      <td>4648233</td>\n",
       "    </tr>\n",
       "  </tbody>\n",
       "</table>\n",
       "</div>"
      ],
      "text/plain": [
       "          consupution_sum\n",
       "sigla_uf                 \n",
       "SP               20882634\n",
       "MG                9265662\n",
       "RJ                6258156\n",
       "PR                4768034\n",
       "RS                4648233"
      ]
     },
     "execution_count": 79,
     "metadata": {},
     "output_type": "execute_result"
    }
   ],
   "source": [
    "olimpic_data = processed_dataset.query(\"ano == 2016 and mes >= 8 and mes <= 9\")\n",
    "\n",
    "olimpic_data.groupby('sigla_uf').agg(\n",
    "    consupution_sum = ('consumo',sum)\n",
    "    ).sort_values(\n",
    "        by = 'consupution_sum',\n",
    "        ascending=False\n",
    "        ).head(5)\n"
   ]
  },
  {
   "cell_type": "markdown",
   "metadata": {},
   "source": [
    "##### 15 Quais são os 5 estados com maior consumo de energia na época do Carnaval?"
   ]
  },
  {
   "cell_type": "code",
   "execution_count": 80,
   "metadata": {},
   "outputs": [
    {
     "name": "stderr",
     "output_type": "stream",
     "text": [
      "C:\\Users\\pedro\\AppData\\Local\\Temp\\ipykernel_20708\\3133669270.py:6: FutureWarning: The provided callable <built-in function sum> is currently using SeriesGroupBy.sum. In a future version of pandas, the provided callable will be used directly. To keep current behavior pass the string \"sum\" instead.\n",
      "  carnival_data.groupby('sigla_uf').agg(\n"
     ]
    },
    {
     "data": {
      "text/html": [
       "<div>\n",
       "<style scoped>\n",
       "    .dataframe tbody tr th:only-of-type {\n",
       "        vertical-align: middle;\n",
       "    }\n",
       "\n",
       "    .dataframe tbody tr th {\n",
       "        vertical-align: top;\n",
       "    }\n",
       "\n",
       "    .dataframe thead th {\n",
       "        text-align: right;\n",
       "    }\n",
       "</style>\n",
       "<table border=\"1\" class=\"dataframe\">\n",
       "  <thead>\n",
       "    <tr style=\"text-align: right;\">\n",
       "      <th></th>\n",
       "      <th>consupution_sum</th>\n",
       "    </tr>\n",
       "    <tr>\n",
       "      <th>sigla_uf</th>\n",
       "      <th></th>\n",
       "    </tr>\n",
       "  </thead>\n",
       "  <tbody>\n",
       "    <tr>\n",
       "      <th>SP</th>\n",
       "      <td>232386250</td>\n",
       "    </tr>\n",
       "    <tr>\n",
       "      <th>MG</th>\n",
       "      <td>94498407</td>\n",
       "    </tr>\n",
       "    <tr>\n",
       "      <th>RJ</th>\n",
       "      <td>72418453</td>\n",
       "    </tr>\n",
       "    <tr>\n",
       "      <th>RS</th>\n",
       "      <td>55721756</td>\n",
       "    </tr>\n",
       "    <tr>\n",
       "      <th>PR</th>\n",
       "      <td>53599026</td>\n",
       "    </tr>\n",
       "    <tr>\n",
       "      <th>SC</th>\n",
       "      <td>43664251</td>\n",
       "    </tr>\n",
       "    <tr>\n",
       "      <th>BA</th>\n",
       "      <td>40992456</td>\n",
       "    </tr>\n",
       "    <tr>\n",
       "      <th>PA</th>\n",
       "      <td>30383975</td>\n",
       "    </tr>\n",
       "    <tr>\n",
       "      <th>GO</th>\n",
       "      <td>23450346</td>\n",
       "    </tr>\n",
       "    <tr>\n",
       "      <th>PE</th>\n",
       "      <td>22677773</td>\n",
       "    </tr>\n",
       "    <tr>\n",
       "      <th>CE</th>\n",
       "      <td>18185675</td>\n",
       "    </tr>\n",
       "    <tr>\n",
       "      <th>ES</th>\n",
       "      <td>17977719</td>\n",
       "    </tr>\n",
       "    <tr>\n",
       "      <th>MA</th>\n",
       "      <td>15854882</td>\n",
       "    </tr>\n",
       "    <tr>\n",
       "      <th>MT</th>\n",
       "      <td>12868752</td>\n",
       "    </tr>\n",
       "    <tr>\n",
       "      <th>DF</th>\n",
       "      <td>10331716</td>\n",
       "    </tr>\n",
       "    <tr>\n",
       "      <th>MS</th>\n",
       "      <td>9420281</td>\n",
       "    </tr>\n",
       "    <tr>\n",
       "      <th>AM</th>\n",
       "      <td>9313924</td>\n",
       "    </tr>\n",
       "    <tr>\n",
       "      <th>RN</th>\n",
       "      <td>9041282</td>\n",
       "    </tr>\n",
       "    <tr>\n",
       "      <th>PB</th>\n",
       "      <td>8596183</td>\n",
       "    </tr>\n",
       "    <tr>\n",
       "      <th>AL</th>\n",
       "      <td>8043484</td>\n",
       "    </tr>\n",
       "    <tr>\n",
       "      <th>SE</th>\n",
       "      <td>6404621</td>\n",
       "    </tr>\n",
       "    <tr>\n",
       "      <th>PI</th>\n",
       "      <td>4848785</td>\n",
       "    </tr>\n",
       "    <tr>\n",
       "      <th>RO</th>\n",
       "      <td>4525959</td>\n",
       "    </tr>\n",
       "    <tr>\n",
       "      <th>TO</th>\n",
       "      <td>3054025</td>\n",
       "    </tr>\n",
       "    <tr>\n",
       "      <th>AP</th>\n",
       "      <td>1511000</td>\n",
       "    </tr>\n",
       "    <tr>\n",
       "      <th>AC</th>\n",
       "      <td>1479808</td>\n",
       "    </tr>\n",
       "    <tr>\n",
       "      <th>RR</th>\n",
       "      <td>1339577</td>\n",
       "    </tr>\n",
       "  </tbody>\n",
       "</table>\n",
       "</div>"
      ],
      "text/plain": [
       "          consupution_sum\n",
       "sigla_uf                 \n",
       "SP              232386250\n",
       "MG               94498407\n",
       "RJ               72418453\n",
       "RS               55721756\n",
       "PR               53599026\n",
       "SC               43664251\n",
       "BA               40992456\n",
       "PA               30383975\n",
       "GO               23450346\n",
       "PE               22677773\n",
       "CE               18185675\n",
       "ES               17977719\n",
       "MA               15854882\n",
       "MT               12868752\n",
       "DF               10331716\n",
       "MS                9420281\n",
       "AM                9313924\n",
       "RN                9041282\n",
       "PB                8596183\n",
       "AL                8043484\n",
       "SE                6404621\n",
       "PI                4848785\n",
       "RO                4525959\n",
       "TO                3054025\n",
       "AP                1511000\n",
       "AC                1479808\n",
       "RR                1339577"
      ]
     },
     "execution_count": 80,
     "metadata": {},
     "output_type": "execute_result"
    }
   ],
   "source": [
    "carnival_data = processed_dataset.query(\"((ano == 2011 or ano == 2014) and mes == 3) \\\n",
    "                                         or ((ano == 2017 or ano == 2022) and (mes == 2 or mes == 3)) \\\n",
    "                                         or (ano != 2011 and ano != 2014 and ano != 2017  and ano != 2022 ) \\\n",
    "                                         and mes == 2\")\n",
    "\n",
    "carnival_data.groupby('sigla_uf').agg(\n",
    "    consupution_sum = ('consumo',sum)\n",
    "    ).sort_values(\n",
    "        by = 'consupution_sum',\n",
    "        ascending=False\n",
    "        )\n"
   ]
  },
  {
   "cell_type": "markdown",
   "metadata": {},
   "source": [
    "##### 16 Qual região tem o maior numero de consumidores"
   ]
  },
  {
   "cell_type": "code",
   "execution_count": 81,
   "metadata": {},
   "outputs": [
    {
     "name": "stderr",
     "output_type": "stream",
     "text": [
      "C:\\Users\\pedro\\AppData\\Local\\Temp\\ipykernel_20708\\2796874396.py:1: FutureWarning: The provided callable <built-in function sum> is currently using SeriesGroupBy.sum. In a future version of pandas, the provided callable will be used directly. To keep current behavior pass the string \"sum\" instead.\n",
      "  max_sum_consumo = processed_dataset.groupby('regiao').agg(\n"
     ]
    },
    {
     "data": {
      "text/html": [
       "<div>\n",
       "<style scoped>\n",
       "    .dataframe tbody tr th:only-of-type {\n",
       "        vertical-align: middle;\n",
       "    }\n",
       "\n",
       "    .dataframe tbody tr th {\n",
       "        vertical-align: top;\n",
       "    }\n",
       "\n",
       "    .dataframe thead th {\n",
       "        text-align: right;\n",
       "    }\n",
       "</style>\n",
       "<table border=\"1\" class=\"dataframe\">\n",
       "  <thead>\n",
       "    <tr style=\"text-align: right;\">\n",
       "      <th></th>\n",
       "      <th>max_cons</th>\n",
       "    </tr>\n",
       "    <tr>\n",
       "      <th>regiao</th>\n",
       "      <th></th>\n",
       "    </tr>\n",
       "  </thead>\n",
       "  <tbody>\n",
       "    <tr>\n",
       "      <th>Sudeste</th>\n",
       "      <td>4518515077</td>\n",
       "    </tr>\n",
       "  </tbody>\n",
       "</table>\n",
       "</div>"
      ],
      "text/plain": [
       "           max_cons\n",
       "regiao             \n",
       "Sudeste  4518515077"
      ]
     },
     "execution_count": 81,
     "metadata": {},
     "output_type": "execute_result"
    }
   ],
   "source": [
    "max_sum_consumo = processed_dataset.groupby('regiao').agg(\n",
    "    max_cons=('consumo', sum)\n",
    ")\n",
    "\n",
    "headOne = max_sum_consumo.sort_values(by='max_cons', ascending=False).head(1)\n",
    "\n",
    "headOne"
   ]
  },
  {
   "cell_type": "markdown",
   "metadata": {},
   "source": [
    "##### 17 Qual região tem o menor numero de consumidores"
   ]
  },
  {
   "cell_type": "code",
   "execution_count": 82,
   "metadata": {},
   "outputs": [
    {
     "name": "stderr",
     "output_type": "stream",
     "text": [
      "C:\\Users\\pedro\\AppData\\Local\\Temp\\ipykernel_20708\\3845704176.py:1: FutureWarning: The provided callable <built-in function sum> is currently using SeriesGroupBy.sum. In a future version of pandas, the provided callable will be used directly. To keep current behavior pass the string \"sum\" instead.\n",
      "  min_sum_consumo = processed_dataset.groupby('regiao').agg(\n"
     ]
    },
    {
     "data": {
      "text/html": [
       "<div>\n",
       "<style scoped>\n",
       "    .dataframe tbody tr th:only-of-type {\n",
       "        vertical-align: middle;\n",
       "    }\n",
       "\n",
       "    .dataframe tbody tr th {\n",
       "        vertical-align: top;\n",
       "    }\n",
       "\n",
       "    .dataframe thead th {\n",
       "        text-align: right;\n",
       "    }\n",
       "</style>\n",
       "<table border=\"1\" class=\"dataframe\">\n",
       "  <thead>\n",
       "    <tr style=\"text-align: right;\">\n",
       "      <th></th>\n",
       "      <th>max_cons</th>\n",
       "    </tr>\n",
       "    <tr>\n",
       "      <th>regiao</th>\n",
       "      <th></th>\n",
       "    </tr>\n",
       "  </thead>\n",
       "  <tbody>\n",
       "    <tr>\n",
       "      <th>Norte</th>\n",
       "      <td>596647389</td>\n",
       "    </tr>\n",
       "  </tbody>\n",
       "</table>\n",
       "</div>"
      ],
      "text/plain": [
       "         max_cons\n",
       "regiao           \n",
       "Norte   596647389"
      ]
     },
     "execution_count": 82,
     "metadata": {},
     "output_type": "execute_result"
    }
   ],
   "source": [
    "min_sum_consumo = processed_dataset.groupby('regiao').agg(\n",
    "    max_cons=('consumo', sum)\n",
    ")\n",
    "\n",
    "headTail = max_sum_consumo.sort_values(by='max_cons', ascending=False).tail(1)\n",
    "\n",
    "headTail"
   ]
  },
  {
   "cell_type": "markdown",
   "metadata": {},
   "source": [
    "##### 18 Qual região tem o maior consumo de energia no mês do Natal"
   ]
  },
  {
   "cell_type": "code",
   "execution_count": 83,
   "metadata": {},
   "outputs": [
    {
     "name": "stderr",
     "output_type": "stream",
     "text": [
      "C:\\Users\\pedro\\AppData\\Local\\Temp\\ipykernel_20708\\491576060.py:3: FutureWarning: The provided callable <built-in function sum> is currently using SeriesGroupBy.sum. In a future version of pandas, the provided callable will be used directly. To keep current behavior pass the string \"sum\" instead.\n",
      "  christmas_data.groupby('regiao').agg(\n"
     ]
    },
    {
     "data": {
      "text/html": [
       "<div>\n",
       "<style scoped>\n",
       "    .dataframe tbody tr th:only-of-type {\n",
       "        vertical-align: middle;\n",
       "    }\n",
       "\n",
       "    .dataframe tbody tr th {\n",
       "        vertical-align: top;\n",
       "    }\n",
       "\n",
       "    .dataframe thead th {\n",
       "        text-align: right;\n",
       "    }\n",
       "</style>\n",
       "<table border=\"1\" class=\"dataframe\">\n",
       "  <thead>\n",
       "    <tr style=\"text-align: right;\">\n",
       "      <th></th>\n",
       "      <th>consupution_sum</th>\n",
       "    </tr>\n",
       "    <tr>\n",
       "      <th>regiao</th>\n",
       "      <th></th>\n",
       "    </tr>\n",
       "  </thead>\n",
       "  <tbody>\n",
       "    <tr>\n",
       "      <th>Sudeste</th>\n",
       "      <td>382762094</td>\n",
       "    </tr>\n",
       "  </tbody>\n",
       "</table>\n",
       "</div>"
      ],
      "text/plain": [
       "         consupution_sum\n",
       "regiao                  \n",
       "Sudeste        382762094"
      ]
     },
     "execution_count": 83,
     "metadata": {},
     "output_type": "execute_result"
    }
   ],
   "source": [
    "christmas_data = processed_dataset.query(\"mes == 12\")\n",
    "\n",
    "christmas_data.groupby('regiao').agg(\n",
    "    consupution_sum = ('consumo',sum)\n",
    "    ).sort_values(\n",
    "        by = 'consupution_sum',\n",
    "        ascending=False\n",
    "        ).head(1)"
   ]
  }
 ],
 "metadata": {
  "kernelspec": {
   "display_name": "Python 3",
   "language": "python",
   "name": "python3"
  },
  "language_info": {
   "codemirror_mode": {
    "name": "ipython",
    "version": 3
   },
   "file_extension": ".py",
   "mimetype": "text/x-python",
   "name": "python",
   "nbconvert_exporter": "python",
   "pygments_lexer": "ipython3",
   "version": "3.12.0"
  }
 },
 "nbformat": 4,
 "nbformat_minor": 2
}
